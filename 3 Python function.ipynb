{
 "cells": [
  {
   "cell_type": "markdown",
   "id": "72bbce75",
   "metadata": {},
   "source": [
    "#### What is a function?\n",
    "\n",
    "A function is a named code block that performs a job or returns a value."
   ]
  },
  {
   "cell_type": "code",
   "execution_count": 1,
   "id": "961281c5",
   "metadata": {},
   "outputs": [],
   "source": [
    "# Here’s a simple function that shows a greeting:\n",
    "\n",
    "def greet():\n",
    "    \"\"\" Display a greeting to users \"\"\"\n",
    "    print('Hi')"
   ]
  },
  {
   "cell_type": "markdown",
   "id": "60d80181",
   "metadata": {},
   "source": [
    "1) Function definition\n",
    "\n",
    "A function definition starts with the def keyword and the name of the function (greet).\n",
    "\n",
    "If the function needs some information to do its job, you need to specify it inside the parentheses (). The greet function in this example doesn’t need any information, so its parentheses are empty.\n",
    "\n",
    "The function definition always ends in a colon (:).\n",
    "\n",
    "2) Function body\n",
    "All the indented lines that follow the function definition make up the function’s body.\n",
    "\n",
    "The text string surrounded by triple quotes is called a docstring. It describes what the function does. Python uses the docstring to generate documentation for the function automatically.\n",
    "\n",
    "The line print('Hi') is the only line of actual code in the function body. The greet() function does one task: print('Hi')."
   ]
  },
  {
   "cell_type": "markdown",
   "id": "bd1a2dc9",
   "metadata": {},
   "source": [
    "#### Calling a function\n",
    "\n",
    "The following example calls the greet() function. Since the greet() function doesn’t need any information, you need to specify empty parentheses like this:"
   ]
  },
  {
   "cell_type": "code",
   "execution_count": 2,
   "id": "b8077fa0",
   "metadata": {},
   "outputs": [
    {
     "name": "stdout",
     "output_type": "stream",
     "text": [
      "Hi\n"
     ]
    }
   ],
   "source": [
    "greet()"
   ]
  },
  {
   "cell_type": "markdown",
   "id": "03aad74b",
   "metadata": {},
   "source": [
    "#### Passing information to Python functions"
   ]
  },
  {
   "cell_type": "code",
   "execution_count": 3,
   "id": "f4492067",
   "metadata": {},
   "outputs": [],
   "source": [
    "def greet(name):\n",
    "    print(f\"Hi {name}\")"
   ]
  },
  {
   "cell_type": "code",
   "execution_count": 4,
   "id": "5ca43a4e",
   "metadata": {},
   "outputs": [
    {
     "name": "stdout",
     "output_type": "stream",
     "text": [
      "Hi john\n"
     ]
    }
   ],
   "source": [
    "greet(\"john\")"
   ]
  },
  {
   "cell_type": "code",
   "execution_count": 5,
   "id": "17b9de45",
   "metadata": {},
   "outputs": [
    {
     "name": "stdout",
     "output_type": "stream",
     "text": [
      "Hi Jane\n"
     ]
    }
   ],
   "source": [
    "first_name = 'Jane'\n",
    "greet(first_name)"
   ]
  },
  {
   "cell_type": "raw",
   "id": "ce3c81bd",
   "metadata": {},
   "source": [
    "Parameters vs. Arguments\n",
    "\n",
    "A parameter is a piece of information that a function needs. And you specify the parameter in the function definition. For example, the greet() function has a parameter called name.\n",
    "\n",
    "An argument is a piece of data that you pass into the function. For example, the text string 'John' or the variable jane is the function argument."
   ]
  },
  {
   "cell_type": "markdown",
   "id": "84b8be46",
   "metadata": {},
   "source": [
    "#### Returning a value"
   ]
  },
  {
   "cell_type": "raw",
   "id": "df08aaca",
   "metadata": {},
   "source": [
    "return value"
   ]
  },
  {
   "cell_type": "code",
   "execution_count": 6,
   "id": "1a0f157a",
   "metadata": {},
   "outputs": [],
   "source": [
    "def greet(name):\n",
    "    return f\"Hi {name}\""
   ]
  },
  {
   "cell_type": "code",
   "execution_count": 7,
   "id": "5a8082a3",
   "metadata": {},
   "outputs": [
    {
     "name": "stdout",
     "output_type": "stream",
     "text": [
      "Hi John\n"
     ]
    }
   ],
   "source": [
    "greeting = greet('John')\n",
    "print(greeting)"
   ]
  },
  {
   "cell_type": "markdown",
   "id": "f6704117",
   "metadata": {},
   "source": [
    "#### Python functions with multiple parameters"
   ]
  },
  {
   "cell_type": "code",
   "execution_count": 8,
   "id": "c013e6ac",
   "metadata": {},
   "outputs": [
    {
     "name": "stdout",
     "output_type": "stream",
     "text": [
      "30\n"
     ]
    }
   ],
   "source": [
    "def sum(a, b):\n",
    "    return a + b\n",
    "\n",
    "\n",
    "total = sum(10,20)\n",
    "print(total)"
   ]
  },
  {
   "cell_type": "markdown",
   "id": "7be8a61a",
   "metadata": {},
   "source": [
    "#### Python Default Parameters\n"
   ]
  },
  {
   "cell_type": "raw",
   "id": "279ee72b",
   "metadata": {},
   "source": [
    "def function_name(param1, param2=value2, param3=value3, ...):"
   ]
  },
  {
   "cell_type": "code",
   "execution_count": 9,
   "id": "346c0fe0",
   "metadata": {},
   "outputs": [
    {
     "ename": "SyntaxError",
     "evalue": "non-default argument follows default argument (1889916590.py, line 1)",
     "output_type": "error",
     "traceback": [
      "\u001b[1;36m  Cell \u001b[1;32mIn[9], line 1\u001b[1;36m\u001b[0m\n\u001b[1;33m    def function_name(param1=value1, param2, param3):\u001b[0m\n\u001b[1;37m                                     ^\u001b[0m\n\u001b[1;31mSyntaxError\u001b[0m\u001b[1;31m:\u001b[0m non-default argument follows default argument\n"
     ]
    }
   ],
   "source": [
    "def function_name(param1=value1, param2, param3):\n",
    "    pass"
   ]
  },
  {
   "cell_type": "markdown",
   "id": "f2fdc271",
   "metadata": {},
   "source": [
    "#### Python default parameters example"
   ]
  },
  {
   "cell_type": "code",
   "execution_count": 10,
   "id": "7d450481",
   "metadata": {},
   "outputs": [],
   "source": [
    "def greet(name, message='Hi'):\n",
    "    return f\"{message} {name}\""
   ]
  },
  {
   "cell_type": "code",
   "execution_count": 11,
   "id": "495aaa2f",
   "metadata": {},
   "outputs": [
    {
     "name": "stdout",
     "output_type": "stream",
     "text": [
      "Hello John\n"
     ]
    }
   ],
   "source": [
    "def greet(name, message='Hi'):\n",
    "    return f\"{message} {name}\"\n",
    "\n",
    "\n",
    "greeting = greet('John', 'Hello')\n",
    "print(greeting)"
   ]
  },
  {
   "cell_type": "code",
   "execution_count": 12,
   "id": "0f6b4720",
   "metadata": {},
   "outputs": [
    {
     "name": "stdout",
     "output_type": "stream",
     "text": [
      "Hi John\n"
     ]
    }
   ],
   "source": [
    "def greet(name, message='Hi'):\n",
    "    return f\"{message} {name}\"\n",
    "\n",
    "\n",
    "greeting = greet('John')\n",
    "print(greeting)"
   ]
  },
  {
   "cell_type": "markdown",
   "id": "34f366bc",
   "metadata": {},
   "source": [
    "#### Multiple default parameters"
   ]
  },
  {
   "cell_type": "code",
   "execution_count": 13,
   "id": "cb31aec8",
   "metadata": {},
   "outputs": [],
   "source": [
    "def greet(name='there', message='Hi'):\n",
    "    return f\"{message} {name}\""
   ]
  },
  {
   "cell_type": "code",
   "execution_count": 14,
   "id": "76119575",
   "metadata": {},
   "outputs": [
    {
     "name": "stdout",
     "output_type": "stream",
     "text": [
      "Hi there\n"
     ]
    }
   ],
   "source": [
    "def greet(name='there', message='Hi'):\n",
    "    return f\"{message} {name}\"\n",
    "\n",
    "\n",
    "greeting = greet()\n",
    "print(greeting)"
   ]
  },
  {
   "cell_type": "code",
   "execution_count": 15,
   "id": "89fd732f",
   "metadata": {},
   "outputs": [
    {
     "name": "stdout",
     "output_type": "stream",
     "text": [
      "Hi Hello\n"
     ]
    }
   ],
   "source": [
    "def greet(name='there', message='Hi'):\n",
    "    return f\"{message} {name}\"\n",
    "\n",
    "\n",
    "greeting = greet('Hello')\n",
    "print(greeting)"
   ]
  },
  {
   "cell_type": "code",
   "execution_count": 16,
   "id": "0d202d58",
   "metadata": {},
   "outputs": [
    {
     "name": "stdout",
     "output_type": "stream",
     "text": [
      "Hello there\n"
     ]
    }
   ],
   "source": [
    "def greet(name='there', message='Hi'):\n",
    "    return f\"{message} {name}\"\n",
    "\n",
    "\n",
    "greeting = greet(message='Hello')\n",
    "print(greeting)"
   ]
  },
  {
   "cell_type": "markdown",
   "id": "33af603f",
   "metadata": {},
   "source": [
    "#### Python Keyword Arguments"
   ]
  },
  {
   "cell_type": "code",
   "execution_count": 17,
   "id": "862906a8",
   "metadata": {},
   "outputs": [],
   "source": [
    "def get_net_price(price, discount):\n",
    "    return price * (1-discount)"
   ]
  },
  {
   "cell_type": "code",
   "execution_count": 18,
   "id": "71344868",
   "metadata": {},
   "outputs": [
    {
     "name": "stdout",
     "output_type": "stream",
     "text": [
      "90.0\n"
     ]
    }
   ],
   "source": [
    "net_price = get_net_price(100, 0.1)\n",
    "print(net_price)"
   ]
  },
  {
   "cell_type": "code",
   "execution_count": 19,
   "id": "9073707a",
   "metadata": {},
   "outputs": [
    {
     "name": "stdout",
     "output_type": "stream",
     "text": [
      "-9.9\n"
     ]
    }
   ],
   "source": [
    "# If you don’t, the function will calculate the net_price incorrectly. For example:\n",
    "\n",
    "net_price = get_net_price(0.1, 100)\n",
    "print(net_price)"
   ]
  },
  {
   "cell_type": "raw",
   "id": "d979e596",
   "metadata": {},
   "source": [
    "fn(parameter1=value1,parameter2=value2)"
   ]
  },
  {
   "cell_type": "markdown",
   "id": "f675f325",
   "metadata": {},
   "source": [
    "The following shows how to use the keyword argument syntax to call the get_net_price() function:"
   ]
  },
  {
   "cell_type": "code",
   "execution_count": 20,
   "id": "032a71ee",
   "metadata": {},
   "outputs": [],
   "source": [
    "net_price = get_net_price(price=100, discount=0.1)\n",
    "\n",
    "# Or\n",
    "\n",
    "net_price = get_net_price(discount=0.1, price=100)"
   ]
  },
  {
   "cell_type": "code",
   "execution_count": 21,
   "id": "276a0ecd",
   "metadata": {},
   "outputs": [],
   "source": [
    "# Note that you can call a function by mixing positional and keyword arguments. For example:\n",
    "\n",
    "net_price = get_net_price(100, discount=0.1)"
   ]
  },
  {
   "cell_type": "markdown",
   "id": "6faf2b9e",
   "metadata": {},
   "source": [
    "#### Keyword arguments and default parameters"
   ]
  },
  {
   "cell_type": "markdown",
   "id": "c806c271",
   "metadata": {},
   "source": [
    "Suppose that you have the following get_net_price() function that calculates the net price from the selling price, tax, and discount."
   ]
  },
  {
   "cell_type": "code",
   "execution_count": 22,
   "id": "29f42ff2",
   "metadata": {},
   "outputs": [],
   "source": [
    "def get_net_price(price, tax=0.07, discount=0.05):\n",
    "    return price * (1 + tax - discount)"
   ]
  },
  {
   "cell_type": "code",
   "execution_count": 23,
   "id": "793fb23f",
   "metadata": {},
   "outputs": [
    {
     "name": "stdout",
     "output_type": "stream",
     "text": [
      "102.0\n"
     ]
    }
   ],
   "source": [
    "net_price = get_net_price(100)\n",
    "print(net_price)"
   ]
  },
  {
   "cell_type": "code",
   "execution_count": 24,
   "id": "a83c9b20",
   "metadata": {},
   "outputs": [
    {
     "data": {
      "text/plain": [
       "96.0"
      ]
     },
     "execution_count": 24,
     "metadata": {},
     "output_type": "execute_result"
    }
   ],
   "source": [
    "net_price = get_net_price(100, 0.01)\n",
    "net_price"
   ]
  },
  {
   "cell_type": "code",
   "execution_count": 25,
   "id": "0463eeba",
   "metadata": {},
   "outputs": [
    {
     "name": "stdout",
     "output_type": "stream",
     "text": [
      "106.0\n"
     ]
    }
   ],
   "source": [
    "net_price = get_net_price(price=100, discount=0.01)\n",
    "print(net_price)"
   ]
  },
  {
   "cell_type": "code",
   "execution_count": 26,
   "id": "bfabc533",
   "metadata": {},
   "outputs": [
    {
     "name": "stdout",
     "output_type": "stream",
     "text": [
      "106.0\n"
     ]
    }
   ],
   "source": [
    "net_price = get_net_price(100, discount=0.01)\n",
    "print(net_price)"
   ]
  },
  {
   "cell_type": "markdown",
   "id": "a818578c",
   "metadata": {},
   "source": [
    "#### Python keyword argument requirements"
   ]
  },
  {
   "cell_type": "code",
   "execution_count": 27,
   "id": "39be2225",
   "metadata": {},
   "outputs": [
    {
     "ename": "SyntaxError",
     "evalue": "positional argument follows keyword argument (1414197187.py, line 1)",
     "output_type": "error",
     "traceback": [
      "\u001b[1;36m  Cell \u001b[1;32mIn[27], line 1\u001b[1;36m\u001b[0m\n\u001b[1;33m    net_price = get_net_price(100, tax=0.08, 0.06)\u001b[0m\n\u001b[1;37m                                                 ^\u001b[0m\n\u001b[1;31mSyntaxError\u001b[0m\u001b[1;31m:\u001b[0m positional argument follows keyword argument\n"
     ]
    }
   ],
   "source": [
    "net_price = get_net_price(100, tax=0.08, 0.06)"
   ]
  },
  {
   "cell_type": "markdown",
   "id": "7b768968",
   "metadata": {},
   "source": [
    "To fix this, you need to use the keyword argument for the third argument like this:"
   ]
  },
  {
   "cell_type": "code",
   "execution_count": 28,
   "id": "17d51f0d",
   "metadata": {},
   "outputs": [
    {
     "name": "stdout",
     "output_type": "stream",
     "text": [
      "102.0\n"
     ]
    }
   ],
   "source": [
    "net_price = get_net_price(100, tax=0.08, discount=0.06)\n",
    "print(net_price)\n"
   ]
  },
  {
   "cell_type": "code",
   "execution_count": null,
   "id": "c5b28e64",
   "metadata": {},
   "outputs": [],
   "source": []
  }
 ],
 "metadata": {
  "kernelspec": {
   "display_name": "Python 3 (ipykernel)",
   "language": "python",
   "name": "python3"
  },
  "language_info": {
   "codemirror_mode": {
    "name": "ipython",
    "version": 3
   },
   "file_extension": ".py",
   "mimetype": "text/x-python",
   "name": "python",
   "nbconvert_exporter": "python",
   "pygments_lexer": "ipython3",
   "version": "3.11.5"
  }
 },
 "nbformat": 4,
 "nbformat_minor": 5
}

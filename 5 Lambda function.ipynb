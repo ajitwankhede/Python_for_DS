{
 "cells": [
  {
   "cell_type": "markdown",
   "id": "280de41a",
   "metadata": {},
   "source": [
    "Python lambda expressions allow you to define anonymous functions.\n",
    "\n",
    "Anonymous functions are functions without names. The anonymous functions are useful when you need to use them once."
   ]
  },
  {
   "cell_type": "code",
   "execution_count": 1,
   "id": "1411ef92",
   "metadata": {},
   "outputs": [
    {
     "data": {
      "text/plain": [
       "<function __main__.<lambda>(parameters)>"
      ]
     },
     "execution_count": 1,
     "metadata": {},
     "output_type": "execute_result"
    }
   ],
   "source": [
    "# The following shows the lambda expression syntax:\n",
    "\n",
    "lambda parameters: expression"
   ]
  },
  {
   "cell_type": "markdown",
   "id": "d5dd5a63",
   "metadata": {},
   "source": [
    "It’s equivalent to the following function without the \"anonymous\" name:"
   ]
  },
  {
   "cell_type": "code",
   "execution_count": 2,
   "id": "e35d9923",
   "metadata": {},
   "outputs": [],
   "source": [
    "def anonymous(parameters):\n",
    "    return expression"
   ]
  },
  {
   "cell_type": "markdown",
   "id": "eb774948",
   "metadata": {},
   "source": [
    "1) Functions that accept a function example"
   ]
  },
  {
   "cell_type": "code",
   "execution_count": 3,
   "id": "5d3d7831",
   "metadata": {},
   "outputs": [],
   "source": [
    "def get_full_name(first_name, last_name, formatter):\n",
    "    return formatter(first_name, last_name)"
   ]
  },
  {
   "cell_type": "markdown",
   "id": "0d70e2bc",
   "metadata": {},
   "source": [
    "The following defines two functions that return a full name from the first name and last name in different formats:"
   ]
  },
  {
   "cell_type": "code",
   "execution_count": 4,
   "id": "025b83ab",
   "metadata": {},
   "outputs": [],
   "source": [
    "def first_last(first_name, last_name):\n",
    "    return f\"{first_name} {last_name}\"\n",
    "\n",
    "\n",
    "def last_first(first_name, last_name):\n",
    "    return f\"{last_name}, {first_name}\""
   ]
  },
  {
   "cell_type": "markdown",
   "id": "bb37c87a",
   "metadata": {},
   "source": [
    "And this shows you how to call the get_full_name() function by passing the first name, last name, and first_last / last_first functions:"
   ]
  },
  {
   "cell_type": "code",
   "execution_count": 5,
   "id": "8772def3",
   "metadata": {},
   "outputs": [
    {
     "name": "stdout",
     "output_type": "stream",
     "text": [
      "John Doe\n",
      "Doe, John\n"
     ]
    }
   ],
   "source": [
    "full_name = get_full_name('John', 'Doe', first_last)\n",
    "print(full_name) # John Doe\n",
    "\n",
    "full_name = get_full_name('John', 'Doe', last_first)\n",
    "print(full_name) #  Doe, John"
   ]
  },
  {
   "cell_type": "markdown",
   "id": "31795943",
   "metadata": {},
   "source": [
    "For example, you can express the first_last function using the following lambda expression:"
   ]
  },
  {
   "cell_type": "code",
   "execution_count": 6,
   "id": "aa34b988",
   "metadata": {},
   "outputs": [
    {
     "data": {
      "text/plain": [
       "<function __main__.<lambda>(first_name, last_name)>"
      ]
     },
     "execution_count": 6,
     "metadata": {},
     "output_type": "execute_result"
    }
   ],
   "source": [
    "lambda first_name,last_name: f\"{first_name} {last_name}\""
   ]
  },
  {
   "cell_type": "markdown",
   "id": "b524c5b8",
   "metadata": {},
   "source": [
    "And the following converts the last_first function using a lambda expression that returns the full name in the format: last name, space, and first name:"
   ]
  },
  {
   "cell_type": "code",
   "execution_count": 7,
   "id": "10021cd1",
   "metadata": {},
   "outputs": [],
   "source": [
    "lambda first_name, last_name: f\"{last_name} {first_name}\";"
   ]
  },
  {
   "cell_type": "code",
   "execution_count": 8,
   "id": "b4b78a01",
   "metadata": {},
   "outputs": [
    {
     "name": "stdout",
     "output_type": "stream",
     "text": [
      "John Doe\n",
      "Doe John\n"
     ]
    }
   ],
   "source": [
    "def get_full_name(first_name, last_name, formatter):\n",
    "    return formatter(first_name, last_name)\n",
    "\n",
    "\n",
    "full_name = get_full_name(\n",
    "    'John',\n",
    "    'Doe',\n",
    "    lambda first_name, last_name: f\"{first_name} {last_name}\"\n",
    ")\n",
    "print(full_name)\n",
    "\n",
    "full_name = get_full_name(\n",
    "    'John',\n",
    "    'Doe',\n",
    "    lambda first_name, last_name: f\"{last_name} {first_name}\"\n",
    ")\n",
    "print(full_name)\n"
   ]
  },
  {
   "cell_type": "markdown",
   "id": "e345f32e",
   "metadata": {},
   "source": [
    "2) Functions that return a function example"
   ]
  },
  {
   "cell_type": "markdown",
   "id": "b9a244f5",
   "metadata": {},
   "source": [
    "The following times() function returns a function which is a lambda expression:"
   ]
  },
  {
   "cell_type": "code",
   "execution_count": 9,
   "id": "670522e4",
   "metadata": {},
   "outputs": [],
   "source": [
    "def times(n):\n",
    "    return lambda x: x * n"
   ]
  },
  {
   "cell_type": "code",
   "execution_count": 10,
   "id": "7258d163",
   "metadata": {},
   "outputs": [],
   "source": [
    "double = times(2)"
   ]
  },
  {
   "cell_type": "code",
   "execution_count": 12,
   "id": "9f880361",
   "metadata": {},
   "outputs": [
    {
     "name": "stdout",
     "output_type": "stream",
     "text": [
      "4\n",
      "6\n"
     ]
    }
   ],
   "source": [
    "result = double(2)\n",
    "print(result)\n",
    "\n",
    "result = double(3)\n",
    "print(result)"
   ]
  },
  {
   "cell_type": "markdown",
   "id": "9a4ca7ad",
   "metadata": {},
   "source": [
    "The following shows another example of using the times() function:"
   ]
  },
  {
   "cell_type": "code",
   "execution_count": 13,
   "id": "0eb030bf",
   "metadata": {},
   "outputs": [
    {
     "name": "stdout",
     "output_type": "stream",
     "text": [
      "6\n",
      "9\n"
     ]
    }
   ],
   "source": [
    "triple = times(3)\n",
    "\n",
    "print(triple(2))  # 6\n",
    "print(triple(3))  # 9"
   ]
  },
  {
   "cell_type": "markdown",
   "id": "785af2a3",
   "metadata": {},
   "source": [
    "#### Python lambda loop"
   ]
  },
  {
   "cell_type": "code",
   "execution_count": 14,
   "id": "5eff5c8f",
   "metadata": {},
   "outputs": [
    {
     "name": "stdout",
     "output_type": "stream",
     "text": [
      "3\n",
      "3\n",
      "3\n"
     ]
    }
   ],
   "source": [
    "callables = []\n",
    "for i in (1, 2, 3):\n",
    "    callables.append(lambda: i)\n",
    "\n",
    "for f in callables:\n",
    "    print(f())"
   ]
  },
  {
   "cell_type": "markdown",
   "id": "3144995e",
   "metadata": {},
   "source": [
    "The expected output will be:\n",
    "    \n",
    "1\n",
    "\n",
    "2\n",
    "\n",
    "3"
   ]
  },
  {
   "cell_type": "code",
   "execution_count": 15,
   "id": "caf9fa41",
   "metadata": {},
   "outputs": [
    {
     "name": "stdout",
     "output_type": "stream",
     "text": [
      "1\n",
      "2\n",
      "3\n"
     ]
    }
   ],
   "source": [
    "callables = []\n",
    "for i in (1,2,3):\n",
    "    callables.append(lambda a = i: a)\n",
    "for f in callables:\n",
    "    print(f())"
   ]
  },
  {
   "cell_type": "code",
   "execution_count": null,
   "id": "691323c3",
   "metadata": {},
   "outputs": [],
   "source": []
  }
 ],
 "metadata": {
  "kernelspec": {
   "display_name": "Python 3 (ipykernel)",
   "language": "python",
   "name": "python3"
  },
  "language_info": {
   "codemirror_mode": {
    "name": "ipython",
    "version": 3
   },
   "file_extension": ".py",
   "mimetype": "text/x-python",
   "name": "python",
   "nbconvert_exporter": "python",
   "pygments_lexer": "ipython3",
   "version": "3.11.5"
  }
 },
 "nbformat": 4,
 "nbformat_minor": 5
}

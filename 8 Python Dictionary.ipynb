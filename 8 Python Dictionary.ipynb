{
 "cells": [
  {
   "cell_type": "markdown",
   "id": "2f756e59",
   "metadata": {},
   "source": [
    "A Python dictionary is a collection of key-value pairs where each key is associated with a value.\n",
    "\n",
    "A key in the key-value pair must be immutable. "
   ]
  },
  {
   "cell_type": "raw",
   "id": "b2f41317",
   "metadata": {},
   "source": [
    "empty_dict = {}"
   ]
  },
  {
   "cell_type": "code",
   "execution_count": 2,
   "id": "98fc28bf",
   "metadata": {},
   "outputs": [
    {
     "name": "stdout",
     "output_type": "stream",
     "text": [
      "<class 'dict'>\n"
     ]
    }
   ],
   "source": [
    "empty_dict = {}\n",
    "print(type(empty_dict))"
   ]
  },
  {
   "cell_type": "code",
   "execution_count": 3,
   "id": "e826a71b",
   "metadata": {},
   "outputs": [],
   "source": [
    "person = {\n",
    "    'first_name': 'John',\n",
    "    'last_name': 'Doe',\n",
    "    'age': 25,\n",
    "    'favorite_colors': ['blue', 'green'],\n",
    "    'active': True\n",
    "}"
   ]
  },
  {
   "cell_type": "markdown",
   "id": "0f7e3f54",
   "metadata": {},
   "source": [
    "#### Accessing values in a Dictionary\n",
    "\n",
    "1) Using square bracket notation"
   ]
  },
  {
   "cell_type": "code",
   "execution_count": 4,
   "id": "5af4ab79",
   "metadata": {},
   "outputs": [
    {
     "name": "stdout",
     "output_type": "stream",
     "text": [
      "John\n",
      "Doe\n"
     ]
    }
   ],
   "source": [
    "person = {\n",
    "    'first_name': 'John',\n",
    "    'last_name': 'Doe',\n",
    "    'age': 25,\n",
    "    'favorite_colors': ['blue', 'green'],\n",
    "    'active': True\n",
    "}\n",
    "print(person['first_name'])\n",
    "print(person['last_name'])"
   ]
  },
  {
   "cell_type": "markdown",
   "id": "bcfeec59",
   "metadata": {},
   "source": [
    "2) Using the get() method"
   ]
  },
  {
   "cell_type": "code",
   "execution_count": 5,
   "id": "e687ccff",
   "metadata": {},
   "outputs": [
    {
     "ename": "KeyError",
     "evalue": "'ssn'",
     "output_type": "error",
     "traceback": [
      "\u001b[1;31m---------------------------------------------------------------------------\u001b[0m",
      "\u001b[1;31mKeyError\u001b[0m                                  Traceback (most recent call last)",
      "Cell \u001b[1;32mIn[5], line 9\u001b[0m\n\u001b[0;32m      1\u001b[0m person \u001b[38;5;241m=\u001b[39m {\n\u001b[0;32m      2\u001b[0m     \u001b[38;5;124m'\u001b[39m\u001b[38;5;124mfirst_name\u001b[39m\u001b[38;5;124m'\u001b[39m: \u001b[38;5;124m'\u001b[39m\u001b[38;5;124mJohn\u001b[39m\u001b[38;5;124m'\u001b[39m,\n\u001b[0;32m      3\u001b[0m     \u001b[38;5;124m'\u001b[39m\u001b[38;5;124mlast_name\u001b[39m\u001b[38;5;124m'\u001b[39m: \u001b[38;5;124m'\u001b[39m\u001b[38;5;124mDoe\u001b[39m\u001b[38;5;124m'\u001b[39m,\n\u001b[1;32m   (...)\u001b[0m\n\u001b[0;32m      6\u001b[0m     \u001b[38;5;124m'\u001b[39m\u001b[38;5;124mactive\u001b[39m\u001b[38;5;124m'\u001b[39m: \u001b[38;5;28;01mTrue\u001b[39;00m\n\u001b[0;32m      7\u001b[0m }\n\u001b[1;32m----> 9\u001b[0m ssn \u001b[38;5;241m=\u001b[39m person[\u001b[38;5;124m'\u001b[39m\u001b[38;5;124mssn\u001b[39m\u001b[38;5;124m'\u001b[39m]\n",
      "\u001b[1;31mKeyError\u001b[0m: 'ssn'"
     ]
    }
   ],
   "source": [
    "person = {\n",
    "    'first_name': 'John',\n",
    "    'last_name': 'Doe',\n",
    "    'age': 25,\n",
    "    'favorite_colors': ['blue', 'green'],\n",
    "    'active': True\n",
    "}\n",
    "\n",
    "ssn = person['ssn']"
   ]
  },
  {
   "cell_type": "code",
   "execution_count": 6,
   "id": "87648e5f",
   "metadata": {},
   "outputs": [
    {
     "name": "stdout",
     "output_type": "stream",
     "text": [
      "None\n"
     ]
    }
   ],
   "source": [
    "person = {\n",
    "    'first_name': 'John',\n",
    "    'last_name': 'Doe',\n",
    "    'age': 25,\n",
    "    'favorite_colors': ['blue', 'green'],\n",
    "    'active': True\n",
    "}\n",
    "\n",
    "ssn = person.get('ssn')\n",
    "print(ssn)\n"
   ]
  },
  {
   "cell_type": "code",
   "execution_count": 10,
   "id": "7f819f43",
   "metadata": {},
   "outputs": [
    {
     "name": "stdout",
     "output_type": "stream",
     "text": [
      "000-00-0000\n"
     ]
    }
   ],
   "source": [
    "person = {\n",
    "    'first_name': 'John',\n",
    "    'last_name': 'Doe',\n",
    "    'age': 25,\n",
    "    'favorite_colors': ['blue', 'green'],\n",
    "    'active': True\n",
    "}\n",
    "\n",
    "ssn = person.get('snn', '000-00-0000')\n",
    "print(ssn)"
   ]
  },
  {
   "cell_type": "markdown",
   "id": "69a14e53",
   "metadata": {},
   "source": [
    "#### Adding new key-value pairs"
   ]
  },
  {
   "cell_type": "code",
   "execution_count": 11,
   "id": "6cb63abd",
   "metadata": {},
   "outputs": [],
   "source": [
    "person['gender'] = 'male'"
   ]
  },
  {
   "cell_type": "code",
   "execution_count": 12,
   "id": "5900580a",
   "metadata": {},
   "outputs": [
    {
     "data": {
      "text/plain": [
       "{'first_name': 'John',\n",
       " 'last_name': 'Doe',\n",
       " 'age': 25,\n",
       " 'favorite_colors': ['blue', 'green'],\n",
       " 'active': True,\n",
       " 'gender': 'male'}"
      ]
     },
     "execution_count": 12,
     "metadata": {},
     "output_type": "execute_result"
    }
   ],
   "source": [
    "person"
   ]
  },
  {
   "cell_type": "markdown",
   "id": "2b45fabd",
   "metadata": {},
   "source": [
    "#### Modifying values in a key-value pair\n",
    "\n",
    "To modify a value associated with a key, you specify the dictionary name with the key in square brackets and the new value associated with the key:"
   ]
  },
  {
   "cell_type": "raw",
   "id": "f9189766",
   "metadata": {},
   "source": [
    "dict[key] = new_value"
   ]
  },
  {
   "cell_type": "code",
   "execution_count": 13,
   "id": "0f35ad35",
   "metadata": {},
   "outputs": [
    {
     "name": "stdout",
     "output_type": "stream",
     "text": [
      "{'first_name': 'John', 'last_name': 'Doe', 'age': 26, 'favorite_colors': ['blue', 'green'], 'active': True}\n"
     ]
    }
   ],
   "source": [
    "person = {\n",
    "    'first_name': 'John',\n",
    "    'last_name': 'Doe',\n",
    "    'age': 25,\n",
    "    'favorite_colors': ['blue', 'green'],\n",
    "    'active': True\n",
    "}\n",
    "\n",
    "person['age'] = 26\n",
    "\n",
    "print(person)"
   ]
  },
  {
   "cell_type": "markdown",
   "id": "431304ce",
   "metadata": {},
   "source": [
    "#### Removing key-value pairs\n",
    "\n",
    "To remove a key-value pair by a key, you use the del statement:"
   ]
  },
  {
   "cell_type": "raw",
   "id": "36e89335",
   "metadata": {},
   "source": [
    "del dict[key]"
   ]
  },
  {
   "cell_type": "code",
   "execution_count": 14,
   "id": "3278179d",
   "metadata": {},
   "outputs": [
    {
     "name": "stdout",
     "output_type": "stream",
     "text": [
      "{'first_name': 'John', 'last_name': 'Doe', 'age': 25, 'favorite_colors': ['blue', 'green']}\n"
     ]
    }
   ],
   "source": [
    "person = {\n",
    "    'first_name': 'John',\n",
    "    'last_name': 'Doe',\n",
    "    'age': 25,\n",
    "    'favorite_colors': ['blue', 'green'],\n",
    "    'active': True\n",
    "}\n",
    "\n",
    "del person['active']\n",
    "print(person)"
   ]
  },
  {
   "cell_type": "markdown",
   "id": "1ca8d001",
   "metadata": {},
   "source": [
    "#### Looping through a dictionary\n",
    "\n",
    "To examine a dictionary, you can use a for loop to iterate over its key-value pairs, or keys, or values.\n",
    "\n",
    "1) Looping all key-value pairs in a dictionary"
   ]
  },
  {
   "cell_type": "code",
   "execution_count": 15,
   "id": "0c232d55",
   "metadata": {},
   "outputs": [
    {
     "name": "stdout",
     "output_type": "stream",
     "text": [
      "dict_items([('first_name', 'John'), ('last_name', 'Doe'), ('age', 25), ('favorite_colors', ['blue', 'green']), ('active', True)])\n"
     ]
    }
   ],
   "source": [
    "person = {\n",
    "    'first_name': 'John',\n",
    "    'last_name': 'Doe',\n",
    "    'age': 25,\n",
    "    'favorite_colors': ['blue', 'green'],\n",
    "    'active': True\n",
    "}\n",
    "\n",
    "print(person.items())"
   ]
  },
  {
   "cell_type": "code",
   "execution_count": 16,
   "id": "e3ebc24b",
   "metadata": {},
   "outputs": [
    {
     "name": "stdout",
     "output_type": "stream",
     "text": [
      "first_name: John\n",
      "last_name: Doe\n",
      "age: 25\n",
      "favorite_colors: ['blue', 'green']\n",
      "active: True\n"
     ]
    }
   ],
   "source": [
    "person = {\n",
    "    'first_name': 'John',\n",
    "    'last_name': 'Doe',\n",
    "    'age': 25,\n",
    "    'favorite_colors': ['blue', 'green'],\n",
    "    'active': True\n",
    "}\n",
    "\n",
    "for key, value in person.items():\n",
    "    print(f\"{key}: {value}\")"
   ]
  },
  {
   "cell_type": "markdown",
   "id": "f21cac72",
   "metadata": {},
   "source": [
    "#### 2) Looping through all the keys in a dictionary\n",
    "\n",
    "The keys() method returns an object that contains a list of keys in the dictionary."
   ]
  },
  {
   "cell_type": "code",
   "execution_count": 17,
   "id": "8d4a94c7",
   "metadata": {},
   "outputs": [
    {
     "name": "stdout",
     "output_type": "stream",
     "text": [
      "first_name\n",
      "last_name\n",
      "age\n",
      "favorite_colors\n",
      "active\n"
     ]
    }
   ],
   "source": [
    "\n",
    "person = {\n",
    "    'first_name': 'John',\n",
    "    'last_name': 'Doe',\n",
    "    'age': 25,\n",
    "    'favorite_colors': ['blue', 'green'],\n",
    "    'active': True\n",
    "}\n",
    "\n",
    "for key in person.keys():\n",
    "    print(key)"
   ]
  },
  {
   "cell_type": "code",
   "execution_count": 18,
   "id": "d444bfe4",
   "metadata": {},
   "outputs": [
    {
     "name": "stdout",
     "output_type": "stream",
     "text": [
      "first_name\n",
      "last_name\n",
      "age\n",
      "favorite_colors\n",
      "active\n"
     ]
    }
   ],
   "source": [
    "person = {\n",
    "    'first_name': 'John',\n",
    "    'last_name': 'Doe',\n",
    "    'age': 25,\n",
    "    'favorite_colors': ['blue', 'green'],\n",
    "    'active': True\n",
    "}\n",
    "\n",
    "for key in person:\n",
    "    print(key)"
   ]
  },
  {
   "cell_type": "markdown",
   "id": "68e6b89f",
   "metadata": {},
   "source": [
    "#### 3) Looping through all the values in a dictionary\n",
    "\n",
    "The values() method returns a list of values without any keys."
   ]
  },
  {
   "cell_type": "code",
   "execution_count": 19,
   "id": "6fc6ab60",
   "metadata": {},
   "outputs": [
    {
     "name": "stdout",
     "output_type": "stream",
     "text": [
      "John\n",
      "Doe\n",
      "25\n",
      "['blue', 'green']\n",
      "True\n"
     ]
    }
   ],
   "source": [
    "person = {\n",
    "    'first_name': 'John',\n",
    "    'last_name': 'Doe',\n",
    "    'age': 25,\n",
    "    'favorite_colors': ['blue', 'green'],\n",
    "    'active': True\n",
    "}\n",
    "\n",
    "for value in person.values():\n",
    "    print(value)\n"
   ]
  },
  {
   "cell_type": "markdown",
   "id": "4cd76fd0",
   "metadata": {},
   "source": [
    "#### Python Dictionary Comprehension"
   ]
  },
  {
   "cell_type": "markdown",
   "id": "106d1e8d",
   "metadata": {},
   "source": [
    "A dictionary comprehension allows you to run a for loop on a dictionary and do something on each item like transforming or filtering and returns a new dictionary."
   ]
  },
  {
   "cell_type": "raw",
   "id": "abfeb9e3",
   "metadata": {},
   "source": [
    "{key:value for (key,value) in dict.items() if condition}"
   ]
  },
  {
   "cell_type": "markdown",
   "id": "9a69bdaf",
   "metadata": {},
   "source": [
    "#### Python dictionary comprehension examples\n",
    "\n",
    "1) Using Python dictionary comprehension to transform a dictionary"
   ]
  },
  {
   "cell_type": "code",
   "execution_count": 20,
   "id": "c9d6e4e2",
   "metadata": {},
   "outputs": [
    {
     "name": "stdout",
     "output_type": "stream",
     "text": [
      "{'AAPL': 123.42, 'AMZN': 3447.6, 'MSFT': 223.38, 'BIIB': 285.6, 'QDEL': 271.32, 'LVGO': 146.88}\n"
     ]
    }
   ],
   "source": [
    "stocks = {\n",
    "    'AAPL': 121,\n",
    "    'AMZN': 3380,\n",
    "    'MSFT': 219,\n",
    "    'BIIB': 280,\n",
    "    'QDEL': 266,\n",
    "    'LVGO': 144\n",
    "}\n",
    "\n",
    "new_stocks = {}\n",
    "for symbol, price in stocks.items():\n",
    "    new_stocks[symbol] = price*1.02\n",
    "\n",
    "print(new_stocks)\n"
   ]
  },
  {
   "cell_type": "markdown",
   "id": "64e4a6bf",
   "metadata": {},
   "source": [
    "This dictionary comprehension is equivalent to the for loop counterpart:"
   ]
  },
  {
   "cell_type": "code",
   "execution_count": 22,
   "id": "5bcc2030",
   "metadata": {},
   "outputs": [],
   "source": [
    "# for loop\n",
    "\n",
    "new_stocks = {}\n",
    "for symbol, price in stocks.items():\n",
    "    new_stocks[symbol] = price*1.02\n",
    "\n",
    "# Dictionary comprehension\n",
    "\n",
    "new_stocks = {symbol: price * 1.02 for (symbol, price) in stocks.items()}\n"
   ]
  },
  {
   "cell_type": "markdown",
   "id": "3c474d13",
   "metadata": {},
   "source": [
    "2) Using Python dictionary comprehension to filter a dictionary"
   ]
  },
  {
   "cell_type": "code",
   "execution_count": 23,
   "id": "c94aeed0",
   "metadata": {},
   "outputs": [
    {
     "name": "stdout",
     "output_type": "stream",
     "text": [
      "{'AMZN': 3380, 'MSFT': 219, 'BIIB': 280, 'QDEL': 266}\n"
     ]
    }
   ],
   "source": [
    "stocks = {\n",
    "    'AAPL': 121,\n",
    "    'AMZN': 3380,\n",
    "    'MSFT': 219,\n",
    "    'BIIB': 280,\n",
    "    'QDEL': 266,\n",
    "    'LVGO': 144\n",
    "}\n",
    "\n",
    "selected_stocks = {}\n",
    "for symbol, price in stocks.items():\n",
    "    if price > 200:\n",
    "        selected_stocks[symbol] = price\n",
    "\n",
    "print(selected_stocks)\n"
   ]
  },
  {
   "cell_type": "code",
   "execution_count": 24,
   "id": "e7be78b7",
   "metadata": {},
   "outputs": [
    {
     "name": "stdout",
     "output_type": "stream",
     "text": [
      "{'AMZN': 3380, 'MSFT': 219, 'BIIB': 280, 'QDEL': 266}\n"
     ]
    }
   ],
   "source": [
    "stocks = {\n",
    "    'AAPL': 121,\n",
    "    'AMZN': 3380,\n",
    "    'MSFT': 219,\n",
    "    'BIIB': 280,\n",
    "    'QDEL': 266,\n",
    "    'LVGO': 144\n",
    "}\n",
    "\n",
    "selected_stocks = {s: p for (s, p) in stocks.items() if p > 200}\n",
    "\n",
    "print(selected_stocks)"
   ]
  },
  {
   "cell_type": "code",
   "execution_count": null,
   "id": "94d8bad0",
   "metadata": {},
   "outputs": [],
   "source": []
  }
 ],
 "metadata": {
  "kernelspec": {
   "display_name": "Python 3 (ipykernel)",
   "language": "python",
   "name": "python3"
  },
  "language_info": {
   "codemirror_mode": {
    "name": "ipython",
    "version": 3
   },
   "file_extension": ".py",
   "mimetype": "text/x-python",
   "name": "python",
   "nbconvert_exporter": "python",
   "pygments_lexer": "ipython3",
   "version": "3.11.5"
  }
 },
 "nbformat": 4,
 "nbformat_minor": 5
}

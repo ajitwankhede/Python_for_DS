{
 "cells": [
  {
   "cell_type": "markdown",
   "id": "c12e6c46",
   "metadata": {},
   "source": [
    "A Python set is an unordered list of immutable elements. It means:\n",
    "\n",
    "Elements in a set are unordered.\n",
    "\n",
    "Elements in a set are unique. A set doesn’t allow duplicate elements.\n",
    "\n",
    "Elements in a set cannot be changed. For example, they can be numbers, strings, and tuples, but cannot be lists or dictionaries.\n",
    "\n",
    "To define a set in Python, you use the curly brace {}. For example:"
   ]
  },
  {
   "cell_type": "code",
   "execution_count": 1,
   "id": "d51157be",
   "metadata": {},
   "outputs": [],
   "source": [
    "skills = {'Python programming','Databases', 'Software design'}"
   ]
  },
  {
   "cell_type": "code",
   "execution_count": 2,
   "id": "53fe6a2a",
   "metadata": {},
   "outputs": [],
   "source": [
    "empty_set = {}"
   ]
  },
  {
   "cell_type": "code",
   "execution_count": 3,
   "id": "442ad539",
   "metadata": {},
   "outputs": [],
   "source": [
    "empty_set  = set()"
   ]
  },
  {
   "cell_type": "code",
   "execution_count": 4,
   "id": "b01a6c30",
   "metadata": {},
   "outputs": [
    {
     "name": "stdout",
     "output_type": "stream",
     "text": [
      "Empty sets are falsy\n"
     ]
    }
   ],
   "source": [
    "skills = set()\n",
    "\n",
    "if not skills:\n",
    "    print('Empty sets are falsy')\n"
   ]
  },
  {
   "cell_type": "code",
   "execution_count": 5,
   "id": "7eb3802c",
   "metadata": {},
   "outputs": [
    {
     "name": "stdout",
     "output_type": "stream",
     "text": [
      "{'Critical Thinking', 'Problem solving'}\n"
     ]
    }
   ],
   "source": [
    "skills = set(['Problem solving','Critical Thinking'])\n",
    "print(skills)"
   ]
  },
  {
   "cell_type": "code",
   "execution_count": 6,
   "id": "6924f731",
   "metadata": {},
   "outputs": [
    {
     "name": "stdout",
     "output_type": "stream",
     "text": [
      "{'r', 'l', 't', 'e'}\n"
     ]
    }
   ],
   "source": [
    "characters = set('letter')\n",
    "print(characters)"
   ]
  },
  {
   "cell_type": "markdown",
   "id": "badc7bb8",
   "metadata": {},
   "source": [
    "#### Getting sizes of a set \n",
    "\n",
    "To get the number of elements in a set, you use the built-in len() function."
   ]
  },
  {
   "cell_type": "raw",
   "id": "99dd7c26",
   "metadata": {},
   "source": [
    "len(set)\n"
   ]
  },
  {
   "cell_type": "code",
   "execution_count": 7,
   "id": "bb18b38a",
   "metadata": {},
   "outputs": [
    {
     "name": "stdout",
     "output_type": "stream",
     "text": [
      "5\n"
     ]
    }
   ],
   "source": [
    "ratings = {1, 2, 3, 4, 5}\n",
    "size = len(ratings)\n",
    "\n",
    "print(size)    "
   ]
  },
  {
   "cell_type": "markdown",
   "id": "796b70f1",
   "metadata": {},
   "source": [
    "#### Checking if an element is in a set\n",
    "\n",
    "To check if a set contains an element, you use the in operator:"
   ]
  },
  {
   "cell_type": "raw",
   "id": "0c2cf348",
   "metadata": {},
   "source": [
    "element in set"
   ]
  },
  {
   "cell_type": "code",
   "execution_count": 8,
   "id": "52aaae9e",
   "metadata": {},
   "outputs": [
    {
     "name": "stdout",
     "output_type": "stream",
     "text": [
      "The set contains 1\n"
     ]
    }
   ],
   "source": [
    "ratings = {1, 2, 3, 4, 5}\n",
    "rating = 1\n",
    "\n",
    "if rating in ratings:\n",
    "    print(f'The set contains {rating}')"
   ]
  },
  {
   "cell_type": "code",
   "execution_count": 9,
   "id": "cd6f2b2a",
   "metadata": {},
   "outputs": [
    {
     "name": "stdout",
     "output_type": "stream",
     "text": [
      "The set does not contain 6\n"
     ]
    }
   ],
   "source": [
    "ratings = {1, 2, 3, 4, 5}\n",
    "rating = 6\n",
    "\n",
    "if rating not in ratings:\n",
    "    print(f'The set does not contain {rating}')\n"
   ]
  },
  {
   "cell_type": "markdown",
   "id": "9f9fe74c",
   "metadata": {},
   "source": [
    "#### Adding elements to a set\n",
    "\n",
    "To add an element to a set, you use the add() method:"
   ]
  },
  {
   "cell_type": "code",
   "execution_count": 10,
   "id": "344da348",
   "metadata": {},
   "outputs": [
    {
     "name": "stdout",
     "output_type": "stream",
     "text": [
      "{'Software design', 'Python programming', 'Problem solving'}\n"
     ]
    }
   ],
   "source": [
    "skills = {'Python programming', 'Software design'}\n",
    "skills.add('Problem solving')\n",
    "\n",
    "print(skills)\n"
   ]
  },
  {
   "cell_type": "markdown",
   "id": "ed17f332",
   "metadata": {},
   "source": [
    "#### Removing an element from a set\n",
    "\n",
    "To remove an element from a set, you use the remove() method:"
   ]
  },
  {
   "cell_type": "raw",
   "id": "3ffee6a8",
   "metadata": {},
   "source": [
    "set.remove(element)"
   ]
  },
  {
   "cell_type": "code",
   "execution_count": 11,
   "id": "586597b9",
   "metadata": {},
   "outputs": [
    {
     "name": "stdout",
     "output_type": "stream",
     "text": [
      "{'Python programming', 'Problem solving'}\n"
     ]
    }
   ],
   "source": [
    "skills = {'Problem solving', 'Software design', 'Python programming'}\n",
    "skills.remove('Software design')\n",
    "\n",
    "print(skills)"
   ]
  },
  {
   "cell_type": "code",
   "execution_count": 12,
   "id": "864e0189",
   "metadata": {},
   "outputs": [
    {
     "ename": "KeyError",
     "evalue": "'Java'",
     "output_type": "error",
     "traceback": [
      "\u001b[1;31m---------------------------------------------------------------------------\u001b[0m",
      "\u001b[1;31mKeyError\u001b[0m                                  Traceback (most recent call last)",
      "Cell \u001b[1;32mIn[12], line 2\u001b[0m\n\u001b[0;32m      1\u001b[0m skills \u001b[38;5;241m=\u001b[39m {\u001b[38;5;124m'\u001b[39m\u001b[38;5;124mProblem solving\u001b[39m\u001b[38;5;124m'\u001b[39m, \u001b[38;5;124m'\u001b[39m\u001b[38;5;124mSoftware design\u001b[39m\u001b[38;5;124m'\u001b[39m, \u001b[38;5;124m'\u001b[39m\u001b[38;5;124mPython programming\u001b[39m\u001b[38;5;124m'\u001b[39m}\n\u001b[1;32m----> 2\u001b[0m skills\u001b[38;5;241m.\u001b[39mremove(\u001b[38;5;124m'\u001b[39m\u001b[38;5;124mJava\u001b[39m\u001b[38;5;124m'\u001b[39m)\n",
      "\u001b[1;31mKeyError\u001b[0m: 'Java'"
     ]
    }
   ],
   "source": [
    "skills = {'Problem solving', 'Software design', 'Python programming'}\n",
    "skills.remove('Java')\n"
   ]
  },
  {
   "cell_type": "code",
   "execution_count": 13,
   "id": "5adbbdc4",
   "metadata": {},
   "outputs": [],
   "source": [
    "skills = {'Problem solving', 'Software design', 'Python programming'}\n",
    "if 'Java' in skills:\n",
    "    skills.remove('Java')\n"
   ]
  },
  {
   "cell_type": "markdown",
   "id": "612bb092",
   "metadata": {},
   "source": [
    "To make it more convenient, the set has the discard() method that allows you to remove an element. And it doesn’t raise an error if the element is not in the list:"
   ]
  },
  {
   "cell_type": "raw",
   "id": "8100515b",
   "metadata": {},
   "source": [
    "set.discard(element)\n"
   ]
  },
  {
   "cell_type": "code",
   "execution_count": 15,
   "id": "54d1930f",
   "metadata": {},
   "outputs": [],
   "source": [
    "skills = {'Problem solving', 'Software design', 'Python programming'}\n",
    "skills.discard('Java')"
   ]
  },
  {
   "cell_type": "markdown",
   "id": "37eee3f4",
   "metadata": {},
   "source": [
    "#### Returning an element from a set\n",
    "\n",
    "To remove and return an element from a set, you use the pop() method."
   ]
  },
  {
   "cell_type": "code",
   "execution_count": 16,
   "id": "3594c332",
   "metadata": {},
   "outputs": [
    {
     "name": "stdout",
     "output_type": "stream",
     "text": [
      "Software design\n"
     ]
    }
   ],
   "source": [
    "skills = {'Problem solving', 'Software design', 'Python programming'}\n",
    "skill = skills.pop()\n",
    "\n",
    "print(skill)\n"
   ]
  },
  {
   "cell_type": "markdown",
   "id": "2988ccdc",
   "metadata": {},
   "source": [
    "### Removing all elements from a set\n",
    "\n",
    "To remove all elements from a set, you use the clear() method:"
   ]
  },
  {
   "cell_type": "raw",
   "id": "eb226530",
   "metadata": {},
   "source": [
    "set.clear()"
   ]
  },
  {
   "cell_type": "code",
   "execution_count": 17,
   "id": "f87b4930",
   "metadata": {},
   "outputs": [
    {
     "name": "stdout",
     "output_type": "stream",
     "text": [
      "set()\n"
     ]
    }
   ],
   "source": [
    "skills = {'Problem solving', 'Software design', 'Python programming'}\n",
    "skills.clear()\n",
    "\n",
    "print(skills)\n"
   ]
  },
  {
   "cell_type": "markdown",
   "id": "e4241370",
   "metadata": {},
   "source": [
    "#### Frozen a set\n",
    "\n",
    "To make a set immutable, you use the built-in function called frozenset(). The frozenset() returns a new immutable set from an existing one. For example:"
   ]
  },
  {
   "cell_type": "code",
   "execution_count": 18,
   "id": "b7be7507",
   "metadata": {},
   "outputs": [],
   "source": [
    "skills = {'Problem solving', 'Software design', 'Python programming'}\n",
    "skills = frozenset(skills)\n"
   ]
  },
  {
   "cell_type": "markdown",
   "id": "356e3319",
   "metadata": {},
   "source": [
    "After that, if you attempt to modify elements of the set, you’ll get an error:"
   ]
  },
  {
   "cell_type": "code",
   "execution_count": 19,
   "id": "1cf986f8",
   "metadata": {},
   "outputs": [
    {
     "ename": "AttributeError",
     "evalue": "'frozenset' object has no attribute 'add'",
     "output_type": "error",
     "traceback": [
      "\u001b[1;31m---------------------------------------------------------------------------\u001b[0m",
      "\u001b[1;31mAttributeError\u001b[0m                            Traceback (most recent call last)",
      "Cell \u001b[1;32mIn[19], line 1\u001b[0m\n\u001b[1;32m----> 1\u001b[0m skills\u001b[38;5;241m.\u001b[39madd(\u001b[38;5;124m'\u001b[39m\u001b[38;5;124mDjango\u001b[39m\u001b[38;5;124m'\u001b[39m)\n",
      "\u001b[1;31mAttributeError\u001b[0m: 'frozenset' object has no attribute 'add'"
     ]
    }
   ],
   "source": [
    "skills.add('Django')\n"
   ]
  },
  {
   "cell_type": "markdown",
   "id": "4995bf6d",
   "metadata": {},
   "source": [
    "#### Looping through set elements"
   ]
  },
  {
   "cell_type": "code",
   "execution_count": 20,
   "id": "e05a12cb",
   "metadata": {},
   "outputs": [
    {
     "name": "stdout",
     "output_type": "stream",
     "text": [
      "Software design\n",
      "Python programming\n",
      "Problem solving\n"
     ]
    }
   ],
   "source": [
    "skills = {'Problem solving', 'Software design', 'Python programming'}\n",
    "\n",
    "for skill in skills:\n",
    "    print(skill)\n"
   ]
  },
  {
   "cell_type": "code",
   "execution_count": 21,
   "id": "bc2d2167",
   "metadata": {},
   "outputs": [
    {
     "name": "stdout",
     "output_type": "stream",
     "text": [
      "0, Software design\n",
      "1, Python programming\n",
      "2, Problem solving\n"
     ]
    }
   ],
   "source": [
    "skills = {'Problem solving', 'Software design', 'Python programming'}\n",
    "\n",
    "for index , element in enumerate(skills):\n",
    "    print(f'{index}, {element}')"
   ]
  },
  {
   "cell_type": "code",
   "execution_count": 22,
   "id": "3abed658",
   "metadata": {},
   "outputs": [
    {
     "name": "stdout",
     "output_type": "stream",
     "text": [
      "1.Software design\n",
      "2.Python programming\n",
      "3.Problem solving\n"
     ]
    }
   ],
   "source": [
    "skills = {'Problem solving', 'Software design', 'Python programming'}\n",
    "\n",
    "for index, skill in enumerate(skills, 1):\n",
    "    print(f\"{index}.{skill}\")"
   ]
  },
  {
   "cell_type": "markdown",
   "id": "d3791e34",
   "metadata": {},
   "source": [
    "#### Set comprehension"
   ]
  },
  {
   "cell_type": "code",
   "execution_count": 23,
   "id": "5b0fe49b",
   "metadata": {},
   "outputs": [
    {
     "name": "stdout",
     "output_type": "stream",
     "text": [
      "{'pandas', 'django', 'numpy'}\n"
     ]
    }
   ],
   "source": [
    "tags = {'Django', 'Pandas', 'Numpy'}\n",
    "\n",
    "lowercase_tags = set()\n",
    "for tag in tags:\n",
    "    lowercase_tags.add(tag.lower())\n",
    "\n",
    "print(lowercase_tags)"
   ]
  },
  {
   "cell_type": "code",
   "execution_count": 24,
   "id": "4530d93b",
   "metadata": {
    "scrolled": true
   },
   "outputs": [
    {
     "name": "stdout",
     "output_type": "stream",
     "text": [
      "{'pandas', 'django', 'numpy'}\n"
     ]
    }
   ],
   "source": [
    "tags = {'Django', 'Pandas', 'Numpy'}\n",
    "lowercase_tags = set(map(lambda tag: tag.lower(), tags))\n",
    "\n",
    "print(lowercase_tags)"
   ]
  },
  {
   "cell_type": "markdown",
   "id": "8191ba17",
   "metadata": {},
   "source": [
    "Python provides you with the set comprehension syntax as follows:"
   ]
  },
  {
   "cell_type": "raw",
   "id": "1c100b9d",
   "metadata": {},
   "source": [
    "{expression for element in set if condition}"
   ]
  },
  {
   "cell_type": "code",
   "execution_count": 25,
   "id": "de19cc15",
   "metadata": {},
   "outputs": [
    {
     "name": "stdout",
     "output_type": "stream",
     "text": [
      "{'pandas', 'django', 'numpy'}\n"
     ]
    }
   ],
   "source": [
    "tags = {'Django', 'Pandas', 'Numpy'}\n",
    "lowercase_tags = {tag.lower() for tag in tags}\n",
    "\n",
    "print(lowercase_tags)"
   ]
  },
  {
   "cell_type": "markdown",
   "id": "83174d67",
   "metadata": {},
   "source": [
    "#### Python Set comprehension with an if clause example\n",
    "\n",
    "Suppose you want to convert all elements of the tags set to lowercase except for the Numpy."
   ]
  },
  {
   "cell_type": "code",
   "execution_count": 26,
   "id": "85c9bb32",
   "metadata": {},
   "outputs": [
    {
     "name": "stdout",
     "output_type": "stream",
     "text": [
      "{'pandas', 'django'}\n"
     ]
    }
   ],
   "source": [
    "tags = {'Django', 'Pandas', 'Numpy'}\n",
    "new_tags = {tag.lower() for tag in tags if tag != 'Numpy'}\n",
    "\n",
    "print(new_tags)\n"
   ]
  },
  {
   "cell_type": "code",
   "execution_count": null,
   "id": "0935ea74",
   "metadata": {},
   "outputs": [],
   "source": []
  }
 ],
 "metadata": {
  "kernelspec": {
   "display_name": "Python 3 (ipykernel)",
   "language": "python",
   "name": "python3"
  },
  "language_info": {
   "codemirror_mode": {
    "name": "ipython",
    "version": 3
   },
   "file_extension": ".py",
   "mimetype": "text/x-python",
   "name": "python",
   "nbconvert_exporter": "python",
   "pygments_lexer": "ipython3",
   "version": "3.11.5"
  }
 },
 "nbformat": 4,
 "nbformat_minor": 5
}

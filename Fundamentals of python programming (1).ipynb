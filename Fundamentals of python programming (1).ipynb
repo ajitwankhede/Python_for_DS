{
 "cells": [
  {
   "cell_type": "code",
   "execution_count": 2,
   "id": "715d94d4",
   "metadata": {
    "scrolled": true
   },
   "outputs": [
    {
     "name": "stdout",
     "output_type": "stream",
     "text": [
      "1\n",
      "2\n",
      "3\n",
      "4\n",
      "5\n",
      "6\n",
      "7\n",
      "8\n",
      "9\n"
     ]
    }
   ],
   "source": [
    "# following is ex. python code\n",
    "def fun():\n",
    "    i = 1\n",
    "    max = 10\n",
    "    while (i<max):\n",
    "        print(i)\n",
    "        i = i + 1\n",
    "fun()"
   ]
  },
  {
   "cell_type": "code",
   "execution_count": null,
   "id": "c8ae312b",
   "metadata": {},
   "outputs": [],
   "source": [
    " if ( a== True) and (b== False) and \\\n",
    "    (c == True):\n",
    "        print(\"Cont. statement\")"
   ]
  },
  {
   "cell_type": "code",
   "execution_count": 4,
   "id": "61f49b5c",
   "metadata": {},
   "outputs": [],
   "source": [
    "import keyword"
   ]
  },
  {
   "cell_type": "code",
   "execution_count": 5,
   "id": "05d47d93",
   "metadata": {},
   "outputs": [
    {
     "name": "stdout",
     "output_type": "stream",
     "text": [
      "['False', 'None', 'True', 'and', 'as', 'assert', 'async', 'await', 'break', 'class', 'continue', 'def', 'del', 'elif', 'else', 'except', 'finally', 'for', 'from', 'global', 'if', 'import', 'in', 'is', 'lambda', 'nonlocal', 'not', 'or', 'pass', 'raise', 'return', 'try', 'while', 'with', 'yield']\n"
     ]
    }
   ],
   "source": [
    "print(keyword.kwlist)"
   ]
  },
  {
   "cell_type": "code",
   "execution_count": null,
   "id": "49662922",
   "metadata": {},
   "outputs": [],
   "source": [
    "'',\"\", ''' ''', \"\"\" \"\"\""
   ]
  },
  {
   "cell_type": "code",
   "execution_count": 8,
   "id": "9eaab540",
   "metadata": {},
   "outputs": [
    {
     "name": "stdout",
     "output_type": "stream",
     "text": [
      "hello\n",
      "hello\n"
     ]
    }
   ],
   "source": [
    "s = 'hello'\n",
    "print(s)\n",
    "s = '''hello'''\n",
    "print(s)"
   ]
  },
  {
   "cell_type": "code",
   "execution_count": 9,
   "id": "56de1e46",
   "metadata": {},
   "outputs": [
    {
     "name": "stdout",
     "output_type": "stream",
     "text": [
      "hello\n"
     ]
    }
   ],
   "source": [
    "message = \"hello\"\n",
    "print(message)"
   ]
  },
  {
   "cell_type": "code",
   "execution_count": null,
   "id": "4f22ef7f",
   "metadata": {},
   "outputs": [],
   "source": [
    "var_name = value"
   ]
  },
  {
   "cell_type": "code",
   "execution_count": 10,
   "id": "b77239b3",
   "metadata": {},
   "outputs": [],
   "source": [
    "counter = 1"
   ]
  },
  {
   "cell_type": "code",
   "execution_count": 11,
   "id": "b2b12b44",
   "metadata": {},
   "outputs": [],
   "source": [
    "message = 'hello'\n",
    "messgae = \"hello\""
   ]
  },
  {
   "cell_type": "code",
   "execution_count": 12,
   "id": "ccf52326",
   "metadata": {},
   "outputs": [],
   "source": [
    "message = \"it's a string\"\n",
    "message = '\"beutiful is better than ugly\" said by ram'"
   ]
  },
  {
   "cell_type": "code",
   "execution_count": 13,
   "id": "7c4e9ac2",
   "metadata": {},
   "outputs": [],
   "source": [
    "meassge = 'it's also a string'"
   ]
  },
  {
   "cell_type": "code",
   "execution_count": null,
   "id": "d57fd740",
   "metadata": {},
   "outputs": [],
   "source": [
    "path = r'C:\\python\\bin'"
   ]
  },
  {
   "cell_type": "code",
   "execution_count": 14,
   "id": "d959bbec",
   "metadata": {},
   "outputs": [
    {
     "name": "stdout",
     "output_type": "stream",
     "text": [
      "\n",
      "    - h host\n",
      "    - p python\n",
      "    u user\n",
      "\n"
     ]
    }
   ],
   "source": [
    "env = '''\n",
    "    - h host\n",
    "    - p python\n",
    "    u user\n",
    "'''\n",
    "print(env)"
   ]
  },
  {
   "cell_type": "code",
   "execution_count": 15,
   "id": "8b06f447",
   "metadata": {},
   "outputs": [
    {
     "name": "stdout",
     "output_type": "stream",
     "text": [
      "hi ajit\n"
     ]
    }
   ],
   "source": [
    "name = 'ajit'\n",
    "messge = f\"hi {name}\"\n",
    "print(messge)"
   ]
  },
  {
   "cell_type": "code",
   "execution_count": 16,
   "id": "8b7dffa2",
   "metadata": {},
   "outputs": [
    {
     "name": "stdout",
     "output_type": "stream",
     "text": [
      "goodmorning\n"
     ]
    }
   ],
   "source": [
    "greeting = 'good' 'morning'\n",
    "print(greeting)"
   ]
  },
  {
   "cell_type": "code",
   "execution_count": 17,
   "id": "f93ddc5b",
   "metadata": {},
   "outputs": [
    {
     "name": "stdout",
     "output_type": "stream",
     "text": [
      " goodafternoon\n"
     ]
    }
   ],
   "source": [
    "greeting = ' good'\n",
    "time = 'afternoon'\n",
    "\n",
    "mess = greeting + time \n",
    "print( mess)"
   ]
  },
  {
   "cell_type": "code",
   "execution_count": 21,
   "id": "cc2ab268",
   "metadata": {},
   "outputs": [
    {
     "name": "stdout",
     "output_type": "stream",
     "text": [
      "n\n"
     ]
    }
   ],
   "source": [
    "str = 'python string'\n",
    "print(str[-2])"
   ]
  },
  {
   "cell_type": "code",
   "execution_count": 22,
   "id": "df580b95",
   "metadata": {},
   "outputs": [
    {
     "name": "stdout",
     "output_type": "stream",
     "text": [
      "13\n"
     ]
    }
   ],
   "source": [
    "str_len = len(str)\n",
    "print(str_len)"
   ]
  },
  {
   "cell_type": "code",
   "execution_count": 23,
   "id": "cdc1edfb",
   "metadata": {},
   "outputs": [
    {
     "name": "stdout",
     "output_type": "stream",
     "text": [
      "py\n"
     ]
    }
   ],
   "source": [
    "print(str[0:2])"
   ]
  },
  {
   "cell_type": "code",
   "execution_count": 24,
   "id": "907304d3",
   "metadata": {},
   "outputs": [
    {
     "ename": "TypeError",
     "evalue": "'str' object does not support item assignment",
     "output_type": "error",
     "traceback": [
      "\u001b[1;31m---------------------------------------------------------------------------\u001b[0m",
      "\u001b[1;31mTypeError\u001b[0m                                 Traceback (most recent call last)",
      "Cell \u001b[1;32mIn[24], line 2\u001b[0m\n\u001b[0;32m      1\u001b[0m \u001b[38;5;28mstr\u001b[39m \u001b[38;5;241m=\u001b[39m \u001b[38;5;124m'\u001b[39m\u001b[38;5;124mpython string\u001b[39m\u001b[38;5;124m'\u001b[39m\n\u001b[1;32m----> 2\u001b[0m \u001b[38;5;28mstr\u001b[39m[\u001b[38;5;241m0\u001b[39m] \u001b[38;5;241m=\u001b[39m \u001b[38;5;124m'\u001b[39m\u001b[38;5;124mj\u001b[39m\u001b[38;5;124m'\u001b[39m\n",
      "\u001b[1;31mTypeError\u001b[0m: 'str' object does not support item assignment"
     ]
    }
   ],
   "source": [
    "str = 'python string'\n",
    "str[0] = 'j'"
   ]
  },
  {
   "cell_type": "code",
   "execution_count": 25,
   "id": "0e7c8727",
   "metadata": {},
   "outputs": [
    {
     "name": "stdout",
     "output_type": "stream",
     "text": [
      "Jython string\n"
     ]
    }
   ],
   "source": [
    "new_str = \"J\" + str[1:]\n",
    "print(new_str)"
   ]
  },
  {
   "cell_type": "code",
   "execution_count": 26,
   "id": "bdbd05e4",
   "metadata": {},
   "outputs": [
    {
     "data": {
      "text/plain": [
       "30"
      ]
     },
     "execution_count": 26,
     "metadata": {},
     "output_type": "execute_result"
    }
   ],
   "source": [
    "10 + 20"
   ]
  },
  {
   "cell_type": "code",
   "execution_count": 27,
   "id": "207a0282",
   "metadata": {},
   "outputs": [
    {
     "data": {
      "text/plain": [
       "-10"
      ]
     },
     "execution_count": 27,
     "metadata": {},
     "output_type": "execute_result"
    }
   ],
   "source": [
    "10 - 20"
   ]
  },
  {
   "cell_type": "code",
   "execution_count": 28,
   "id": "d56f7908",
   "metadata": {},
   "outputs": [
    {
     "data": {
      "text/plain": [
       "200"
      ]
     },
     "execution_count": 28,
     "metadata": {},
     "output_type": "execute_result"
    }
   ],
   "source": [
    "10 * 20"
   ]
  },
  {
   "cell_type": "code",
   "execution_count": 29,
   "id": "8096f808",
   "metadata": {},
   "outputs": [
    {
     "data": {
      "text/plain": [
       "2.0"
      ]
     },
     "execution_count": 29,
     "metadata": {},
     "output_type": "execute_result"
    }
   ],
   "source": [
    "20 / 10"
   ]
  },
  {
   "cell_type": "code",
   "execution_count": 30,
   "id": "468ef0d5",
   "metadata": {},
   "outputs": [
    {
     "data": {
      "text/plain": [
       "9"
      ]
     },
     "execution_count": 30,
     "metadata": {},
     "output_type": "execute_result"
    }
   ],
   "source": [
    "3**2"
   ]
  },
  {
   "cell_type": "code",
   "execution_count": 31,
   "id": "7fbb4616",
   "metadata": {},
   "outputs": [
    {
     "data": {
      "text/plain": [
       "1.0"
      ]
     },
     "execution_count": 31,
     "metadata": {},
     "output_type": "execute_result"
    }
   ],
   "source": [
    "20 / (10 + 10)"
   ]
  },
  {
   "cell_type": "code",
   "execution_count": 32,
   "id": "cfeae749",
   "metadata": {},
   "outputs": [
    {
     "data": {
      "text/plain": [
       "1.0"
      ]
     },
     "execution_count": 32,
     "metadata": {},
     "output_type": "execute_result"
    }
   ],
   "source": [
    "0.5 + 0.5 "
   ]
  },
  {
   "cell_type": "code",
   "execution_count": 33,
   "id": "8bee52f9",
   "metadata": {},
   "outputs": [
    {
     "data": {
      "text/plain": [
       "0.0"
      ]
     },
     "execution_count": 33,
     "metadata": {},
     "output_type": "execute_result"
    }
   ],
   "source": [
    "0.5 - 0.5 "
   ]
  },
  {
   "cell_type": "code",
   "execution_count": 34,
   "id": "33a4aa94",
   "metadata": {},
   "outputs": [
    {
     "data": {
      "text/plain": [
       "2.0"
      ]
     },
     "execution_count": 34,
     "metadata": {},
     "output_type": "execute_result"
    }
   ],
   "source": [
    "20 / 10"
   ]
  },
  {
   "cell_type": "code",
   "execution_count": 36,
   "id": "0f934a18",
   "metadata": {},
   "outputs": [
    {
     "data": {
      "text/plain": [
       "3.0"
      ]
     },
     "execution_count": 36,
     "metadata": {},
     "output_type": "execute_result"
    }
   ],
   "source": [
    "1 + 2.0"
   ]
  },
  {
   "cell_type": "code",
   "execution_count": 37,
   "id": "8df52cf8",
   "metadata": {},
   "outputs": [
    {
     "data": {
      "text/plain": [
       "0.30000000000000004"
      ]
     },
     "execution_count": 37,
     "metadata": {},
     "output_type": "execute_result"
    }
   ],
   "source": [
    "0.1+0.2"
   ]
  },
  {
   "cell_type": "code",
   "execution_count": 38,
   "id": "1f917512",
   "metadata": {},
   "outputs": [
    {
     "name": "stdout",
     "output_type": "stream",
     "text": [
      "10000000\n"
     ]
    }
   ],
   "source": [
    "# pay = 10000000\n",
    "pay = 10_000_000\n",
    "print(pay)"
   ]
  },
  {
   "cell_type": "code",
   "execution_count": null,
   "id": "cd5046d6",
   "metadata": {},
   "outputs": [],
   "source": [
    "True and False"
   ]
  },
  {
   "cell_type": "code",
   "execution_count": 39,
   "id": "ec06e1f2",
   "metadata": {},
   "outputs": [
    {
     "data": {
      "text/plain": [
       "True"
      ]
     },
     "execution_count": 39,
     "metadata": {},
     "output_type": "execute_result"
    }
   ],
   "source": [
    "20 > 10"
   ]
  },
  {
   "cell_type": "code",
   "execution_count": 40,
   "id": "5d9d0ec0",
   "metadata": {},
   "outputs": [
    {
     "data": {
      "text/plain": [
       "False"
      ]
     },
     "execution_count": 40,
     "metadata": {},
     "output_type": "execute_result"
    }
   ],
   "source": [
    "20 < 10"
   ]
  },
  {
   "cell_type": "code",
   "execution_count": 41,
   "id": "d57fab8d",
   "metadata": {},
   "outputs": [
    {
     "data": {
      "text/plain": [
       "True"
      ]
     },
     "execution_count": 41,
     "metadata": {},
     "output_type": "execute_result"
    }
   ],
   "source": [
    "bool(\"hi\")"
   ]
  },
  {
   "cell_type": "code",
   "execution_count": 42,
   "id": "dbbe7f17",
   "metadata": {},
   "outputs": [
    {
     "data": {
      "text/plain": [
       "False"
      ]
     },
     "execution_count": 42,
     "metadata": {},
     "output_type": "execute_result"
    }
   ],
   "source": [
    "bool('')"
   ]
  },
  {
   "cell_type": "code",
   "execution_count": 43,
   "id": "3b85d2ba",
   "metadata": {},
   "outputs": [],
   "source": [
    "FILE_SIZE = 200"
   ]
  },
  {
   "cell_type": "code",
   "execution_count": 44,
   "id": "9f094160",
   "metadata": {},
   "outputs": [
    {
     "name": "stdout",
     "output_type": "stream",
     "text": [
      "enter a value5\n",
      "5\n"
     ]
    }
   ],
   "source": [
    "value = input(\"enter a value\")\n",
    "print(value)"
   ]
  },
  {
   "cell_type": "code",
   "execution_count": null,
   "id": "f643fa16",
   "metadata": {},
   "outputs": [],
   "source": [
    "int(str)\n",
    "float(str)\n",
    "bool(val)\n",
    "str(val)"
   ]
  },
  {
   "cell_type": "code",
   "execution_count": 47,
   "id": "b0c447ec",
   "metadata": {},
   "outputs": [
    {
     "data": {
      "text/plain": [
       "float"
      ]
     },
     "execution_count": 47,
     "metadata": {},
     "output_type": "execute_result"
    }
   ],
   "source": [
    "type(100.5)"
   ]
  },
  {
   "cell_type": "code",
   "execution_count": 46,
   "id": "d3e28154",
   "metadata": {},
   "outputs": [
    {
     "data": {
      "text/plain": [
       "str"
      ]
     },
     "execution_count": 46,
     "metadata": {},
     "output_type": "execute_result"
    }
   ],
   "source": [
    "type('hi')"
   ]
  },
  {
   "cell_type": "code",
   "execution_count": 48,
   "id": "d0e61079",
   "metadata": {},
   "outputs": [
    {
     "data": {
      "text/plain": [
       "bool"
      ]
     },
     "execution_count": 48,
     "metadata": {},
     "output_type": "execute_result"
    }
   ],
   "source": [
    "type(True)"
   ]
  },
  {
   "cell_type": "code",
   "execution_count": null,
   "id": "14d246a3",
   "metadata": {},
   "outputs": [],
   "source": [
    "< <= > >= == |="
   ]
  },
  {
   "cell_type": "code",
   "execution_count": 49,
   "id": "090ae653",
   "metadata": {},
   "outputs": [
    {
     "data": {
      "text/plain": [
       "True"
      ]
     },
     "execution_count": 49,
     "metadata": {},
     "output_type": "execute_result"
    }
   ],
   "source": [
    "10<20"
   ]
  },
  {
   "cell_type": "code",
   "execution_count": 50,
   "id": "643589a3",
   "metadata": {},
   "outputs": [
    {
     "data": {
      "text/plain": [
       "False"
      ]
     },
     "execution_count": 50,
     "metadata": {},
     "output_type": "execute_result"
    }
   ],
   "source": [
    "10>20"
   ]
  },
  {
   "cell_type": "code",
   "execution_count": 51,
   "id": "74657301",
   "metadata": {},
   "outputs": [
    {
     "data": {
      "text/plain": [
       "True"
      ]
     },
     "execution_count": 51,
     "metadata": {},
     "output_type": "execute_result"
    }
   ],
   "source": [
    "'apple' < 'orange'"
   ]
  },
  {
   "cell_type": "code",
   "execution_count": 52,
   "id": "a4a309c5",
   "metadata": {},
   "outputs": [
    {
     "data": {
      "text/plain": [
       "False"
      ]
     },
     "execution_count": 52,
     "metadata": {},
     "output_type": "execute_result"
    }
   ],
   "source": [
    "'banana'< \"apple\""
   ]
  },
  {
   "cell_type": "code",
   "execution_count": null,
   "id": "0b31a06a",
   "metadata": {},
   "outputs": [],
   "source": [
    "a and b"
   ]
  },
  {
   "cell_type": "code",
   "execution_count": 58,
   "id": "46526689",
   "metadata": {},
   "outputs": [],
   "source": [
    "price = 12\n"
   ]
  },
  {
   "cell_type": "code",
   "execution_count": 59,
   "id": "0c00b86e",
   "metadata": {},
   "outputs": [
    {
     "data": {
      "text/plain": [
       "True"
      ]
     },
     "execution_count": 59,
     "metadata": {},
     "output_type": "execute_result"
    }
   ],
   "source": [
    "price > 9 or price < 11"
   ]
  },
  {
   "cell_type": "code",
   "execution_count": null,
   "id": "45d0ff63",
   "metadata": {},
   "outputs": [],
   "source": [
    "not a "
   ]
  },
  {
   "cell_type": "code",
   "execution_count": 61,
   "id": "2af33398",
   "metadata": {},
   "outputs": [
    {
     "data": {
      "text/plain": [
       "True"
      ]
     },
     "execution_count": 61,
     "metadata": {},
     "output_type": "execute_result"
    }
   ],
   "source": [
    "not price > 13"
   ]
  },
  {
   "cell_type": "code",
   "execution_count": null,
   "id": "50e38fe2",
   "metadata": {},
   "outputs": [],
   "source": []
  }
 ],
 "metadata": {
  "kernelspec": {
   "display_name": "Python 3 (ipykernel)",
   "language": "python",
   "name": "python3"
  },
  "language_info": {
   "codemirror_mode": {
    "name": "ipython",
    "version": 3
   },
   "file_extension": ".py",
   "mimetype": "text/x-python",
   "name": "python",
   "nbconvert_exporter": "python",
   "pygments_lexer": "ipython3",
   "version": "3.11.5"
  }
 },
 "nbformat": 4,
 "nbformat_minor": 5
}

{
 "cells": [
  {
   "cell_type": "code",
   "execution_count": 2,
   "id": "50571beb",
   "metadata": {},
   "outputs": [],
   "source": [
    "import numpy as np"
   ]
  },
  {
   "cell_type": "markdown",
   "id": "04a15e09",
   "metadata": {},
   "source": [
    "The definition of advanced indexing means that x[(1, 2, 3),] is fundamentally different than x[(1, 2, 3)]. The latter is equivalent to x[1, 2, 3] which will trigger basic selection while the former will trigger advanced indexing."
   ]
  },
  {
   "cell_type": "markdown",
   "id": "82bb7b79",
   "metadata": {},
   "source": [
    "#### Integer array indexing"
   ]
  },
  {
   "cell_type": "code",
   "execution_count": 3,
   "id": "3789b5d5",
   "metadata": {},
   "outputs": [
    {
     "data": {
      "text/plain": [
       "array([10,  9,  8,  7,  6,  5,  4,  3,  2])"
      ]
     },
     "execution_count": 3,
     "metadata": {},
     "output_type": "execute_result"
    }
   ],
   "source": [
    "x = np.arange(10, 1, -1)\n",
    "x"
   ]
  },
  {
   "cell_type": "code",
   "execution_count": 4,
   "id": "c448c064",
   "metadata": {},
   "outputs": [
    {
     "data": {
      "text/plain": [
       "array([7, 7, 9, 2])"
      ]
     },
     "execution_count": 4,
     "metadata": {},
     "output_type": "execute_result"
    }
   ],
   "source": [
    "x[np.array([3, 3, 1, 8])]"
   ]
  },
  {
   "cell_type": "code",
   "execution_count": 5,
   "id": "a52c435f",
   "metadata": {},
   "outputs": [
    {
     "data": {
      "text/plain": [
       "array([[3, 4],\n",
       "       [5, 6]])"
      ]
     },
     "execution_count": 5,
     "metadata": {},
     "output_type": "execute_result"
    }
   ],
   "source": [
    "# If the index values are out of bounds then an IndexError is thrown:\n",
    "\n",
    "x = np.array([[1, 2], [3, 4], [5, 6]])\n",
    "x[np.array([1, -1])]"
   ]
  },
  {
   "cell_type": "code",
   "execution_count": 7,
   "id": "30557524",
   "metadata": {},
   "outputs": [
    {
     "ename": "IndexError",
     "evalue": "index 3 is out of bounds for axis 0 with size 3",
     "output_type": "error",
     "traceback": [
      "\u001b[1;31m---------------------------------------------------------------------------\u001b[0m",
      "\u001b[1;31mIndexError\u001b[0m                                Traceback (most recent call last)",
      "Cell \u001b[1;32mIn[7], line 1\u001b[0m\n\u001b[1;32m----> 1\u001b[0m x[np\u001b[38;5;241m.\u001b[39marray([\u001b[38;5;241m3\u001b[39m, \u001b[38;5;241m4\u001b[39m])]\n",
      "\u001b[1;31mIndexError\u001b[0m: index 3 is out of bounds for axis 0 with size 3"
     ]
    }
   ],
   "source": [
    "x[np.array([3, 4])]   # Error"
   ]
  },
  {
   "cell_type": "markdown",
   "id": "85b43047",
   "metadata": {},
   "source": [
    "Advanced indices always are broadcast and iterated as one:"
   ]
  },
  {
   "cell_type": "code",
   "execution_count": 8,
   "id": "2091c39b",
   "metadata": {},
   "outputs": [
    {
     "data": {
      "text/plain": [
       "'\\nresult[i_1, ..., i_M] == x[ind_1[i_1, ..., i_M], ind_2[i_1, ..., i_M],\\n                           ..., ind_N[i_1, ..., i_M]]\\n            \\n'"
      ]
     },
     "execution_count": 8,
     "metadata": {},
     "output_type": "execute_result"
    }
   ],
   "source": [
    "'''\n",
    "result[i_1, ..., i_M] == x[ind_1[i_1, ..., i_M], ind_2[i_1, ..., i_M],\n",
    "                           ..., ind_N[i_1, ..., i_M]]\n",
    "            \n",
    "'''"
   ]
  },
  {
   "cell_type": "code",
   "execution_count": 9,
   "id": "d88b0a33",
   "metadata": {},
   "outputs": [
    {
     "data": {
      "text/plain": [
       "array([[ 0,  1,  2,  3,  4,  5,  6],\n",
       "       [ 7,  8,  9, 10, 11, 12, 13],\n",
       "       [14, 15, 16, 17, 18, 19, 20],\n",
       "       [21, 22, 23, 24, 25, 26, 27],\n",
       "       [28, 29, 30, 31, 32, 33, 34]])"
      ]
     },
     "execution_count": 9,
     "metadata": {},
     "output_type": "execute_result"
    }
   ],
   "source": [
    "y = np.arange(35).reshape(5, 7)\n",
    "y"
   ]
  },
  {
   "cell_type": "code",
   "execution_count": 12,
   "id": "7802772f",
   "metadata": {},
   "outputs": [
    {
     "data": {
      "text/plain": [
       "array([ 0, 15, 30])"
      ]
     },
     "execution_count": 12,
     "metadata": {},
     "output_type": "execute_result"
    }
   ],
   "source": [
    "y[np.array([0, 2, 4]), np.array([0, 1, 2])]\n",
    "\n",
    "# \"\"\"\n",
    "#      In this example, the first index value is 0 for both index arrays, \n",
    "#      and thus the first value of the resultant array is y[0, 0]. \n",
    "#      The next value is y[2, 1], and the last is y[4, 2].\n",
    "# \"\"\""
   ]
  },
  {
   "cell_type": "markdown",
   "id": "fdf0d4d1",
   "metadata": {},
   "source": [
    " If they cannot be broadcast to the same shape, an exception is raised:"
   ]
  },
  {
   "cell_type": "code",
   "execution_count": 13,
   "id": "a0f5d470",
   "metadata": {},
   "outputs": [
    {
     "ename": "IndexError",
     "evalue": "shape mismatch: indexing arrays could not be broadcast together with shapes (3,) (2,) ",
     "output_type": "error",
     "traceback": [
      "\u001b[1;31m---------------------------------------------------------------------------\u001b[0m",
      "\u001b[1;31mIndexError\u001b[0m                                Traceback (most recent call last)",
      "Cell \u001b[1;32mIn[13], line 1\u001b[0m\n\u001b[1;32m----> 1\u001b[0m y[np\u001b[38;5;241m.\u001b[39marray([\u001b[38;5;241m0\u001b[39m, \u001b[38;5;241m2\u001b[39m, \u001b[38;5;241m4\u001b[39m]), np\u001b[38;5;241m.\u001b[39marray([\u001b[38;5;241m0\u001b[39m, \u001b[38;5;241m1\u001b[39m])]\n",
      "\u001b[1;31mIndexError\u001b[0m: shape mismatch: indexing arrays could not be broadcast together with shapes (3,) (2,) "
     ]
    }
   ],
   "source": [
    "y[np.array([0, 2, 4]), np.array([0, 1])]"
   ]
  },
  {
   "cell_type": "code",
   "execution_count": 14,
   "id": "589d6e03",
   "metadata": {},
   "outputs": [
    {
     "data": {
      "text/plain": [
       "array([[ 0,  1,  2,  3,  4,  5,  6],\n",
       "       [14, 15, 16, 17, 18, 19, 20],\n",
       "       [28, 29, 30, 31, 32, 33, 34]])"
      ]
     },
     "execution_count": 14,
     "metadata": {},
     "output_type": "execute_result"
    }
   ],
   "source": [
    "# For example if we just use one index array with y:\n",
    "\n",
    "y[np.array([0, 2, 4])]"
   ]
  },
  {
   "cell_type": "markdown",
   "id": "af971e88",
   "metadata": {},
   "source": [
    "#### Boolean array indexing"
   ]
  },
  {
   "cell_type": "markdown",
   "id": "2e2e85e1",
   "metadata": {},
   "source": [
    "This advanced indexing occurs when obj is an array object of Boolean type, such as may be returned from comparison operators. A single boolean index array is practically identical to x[obj.nonzero()] where, as described above, obj.nonzero() returns a tuple (of length obj.ndim) of integer index arrays showing the True elements of obj. However, it is faster when obj.shape == x.shape."
   ]
  },
  {
   "cell_type": "markdown",
   "id": "292e9b43",
   "metadata": {},
   "source": [
    "A common use case for this is filtering for desired element values. For example, one may wish to select all entries from an array which are not NaN:"
   ]
  },
  {
   "cell_type": "code",
   "execution_count": 15,
   "id": "5df9aaac",
   "metadata": {},
   "outputs": [
    {
     "data": {
      "text/plain": [
       "array([1., 2., 3.])"
      ]
     },
     "execution_count": 15,
     "metadata": {},
     "output_type": "execute_result"
    }
   ],
   "source": [
    "x = np.array([[1., 2.], [np.nan, 3.], [np.nan, np.nan]])\n",
    "x[~np.isnan(x)]"
   ]
  },
  {
   "cell_type": "markdown",
   "id": "8fedd313",
   "metadata": {},
   "source": [
    "Or wish to add a constant to all negative elements:"
   ]
  },
  {
   "cell_type": "code",
   "execution_count": 16,
   "id": "76a2f340",
   "metadata": {},
   "outputs": [
    {
     "data": {
      "text/plain": [
       "array([ 1., 19., 18.,  3.])"
      ]
     },
     "execution_count": 16,
     "metadata": {},
     "output_type": "execute_result"
    }
   ],
   "source": [
    "x = np.array([1., -1., -2., 3])\n",
    "x[x < 0] += 20\n",
    "x"
   ]
  },
  {
   "cell_type": "code",
   "execution_count": 17,
   "id": "3fdcc624",
   "metadata": {},
   "outputs": [],
   "source": [
    "# x[ind_1, boolean_array, ind_2] is equivalent to x[(ind_1,) + boolean_array.nonzero() + (ind_2,)]."
   ]
  },
  {
   "cell_type": "code",
   "execution_count": 18,
   "id": "3667a484",
   "metadata": {},
   "outputs": [
    {
     "data": {
      "text/plain": [
       "array([False, False, False,  True,  True])"
      ]
     },
     "execution_count": 18,
     "metadata": {},
     "output_type": "execute_result"
    }
   ],
   "source": [
    "x = np.arange(35).reshape(5, 7)\n",
    "b = x > 20\n",
    "b[:, 5]"
   ]
  },
  {
   "cell_type": "code",
   "execution_count": 19,
   "id": "071d198e",
   "metadata": {},
   "outputs": [
    {
     "data": {
      "text/plain": [
       "array([[21, 22, 23, 24, 25, 26, 27],\n",
       "       [28, 29, 30, 31, 32, 33, 34]])"
      ]
     },
     "execution_count": 19,
     "metadata": {},
     "output_type": "execute_result"
    }
   ],
   "source": [
    "x[b[:, 5]]"
   ]
  },
  {
   "cell_type": "markdown",
   "id": "3a2bfa25",
   "metadata": {},
   "source": [
    "Here the 4th and 5th rows are selected from the indexed array and combined to make a 2-D array."
   ]
  },
  {
   "cell_type": "markdown",
   "id": "d099882c",
   "metadata": {},
   "source": [
    "#### Combining advanced and basic indexing"
   ]
  },
  {
   "cell_type": "markdown",
   "id": "c8611b66",
   "metadata": {},
   "source": [
    "When there is at least one slice (:), ellipsis (...) or newaxis in the index (or the array has more dimensions than there are advanced indices), then the behaviour can be more complicated. "
   ]
  },
  {
   "cell_type": "code",
   "execution_count": 20,
   "id": "14f12d2a",
   "metadata": {},
   "outputs": [
    {
     "data": {
      "text/plain": [
       "array([[ 1,  2],\n",
       "       [15, 16],\n",
       "       [29, 30]])"
      ]
     },
     "execution_count": 20,
     "metadata": {},
     "output_type": "execute_result"
    }
   ],
   "source": [
    "y = np.arange(35).reshape(5,7)\n",
    "y[np.array([0, 2, 4]), 1:3]"
   ]
  },
  {
   "cell_type": "code",
   "execution_count": 21,
   "id": "61a22208",
   "metadata": {},
   "outputs": [
    {
     "data": {
      "text/plain": [
       "array([[ 1,  2],\n",
       "       [15, 16],\n",
       "       [29, 30]])"
      ]
     },
     "execution_count": 21,
     "metadata": {},
     "output_type": "execute_result"
    }
   ],
   "source": [
    "y[:, 1:3][np.array([0, 2, 4]), :]\n"
   ]
  },
  {
   "cell_type": "code",
   "execution_count": 22,
   "id": "dbcd350d",
   "metadata": {},
   "outputs": [
    {
     "data": {
      "text/plain": [
       "array([[4, 5]])"
      ]
     },
     "execution_count": 22,
     "metadata": {},
     "output_type": "execute_result"
    }
   ],
   "source": [
    "x = np.array([[ 0,  1,  2],\n",
    "              [ 3,  4,  5],\n",
    "              [ 6,  7,  8],\n",
    "              [ 9, 10, 11]])\n",
    "x[1:2, 1:3]\n"
   ]
  },
  {
   "cell_type": "code",
   "execution_count": 23,
   "id": "b015f65e",
   "metadata": {},
   "outputs": [
    {
     "data": {
      "text/plain": [
       "array([[4, 5]])"
      ]
     },
     "execution_count": 23,
     "metadata": {},
     "output_type": "execute_result"
    }
   ],
   "source": [
    "x[1:2, [1, 2]]"
   ]
  },
  {
   "cell_type": "markdown",
   "id": "43ecbd07",
   "metadata": {},
   "source": [
    "Two cases of index combination need to be distinguished:\n",
    "\n",
    "The advanced indices are separated by a slice, Ellipsis or newaxis. For example x[arr1, :, arr2].\n",
    "\n",
    "The advanced indices are all next to each other. For example x[..., arr1, arr2, :] but not x[arr1, :, 1] since 1 is an advanced index in this regard."
   ]
  },
  {
   "cell_type": "code",
   "execution_count": null,
   "id": "43c84363",
   "metadata": {},
   "outputs": [],
   "source": []
  }
 ],
 "metadata": {
  "kernelspec": {
   "display_name": "Python 3 (ipykernel)",
   "language": "python",
   "name": "python3"
  },
  "language_info": {
   "codemirror_mode": {
    "name": "ipython",
    "version": 3
   },
   "file_extension": ".py",
   "mimetype": "text/x-python",
   "name": "python",
   "nbconvert_exporter": "python",
   "pygments_lexer": "ipython3",
   "version": "3.11.5"
  }
 },
 "nbformat": 4,
 "nbformat_minor": 5
}
